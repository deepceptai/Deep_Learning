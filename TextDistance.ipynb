{
  "nbformat": 4,
  "nbformat_minor": 0,
  "metadata": {
    "colab": {
      "provenance": []
    },
    "kernelspec": {
      "name": "python3",
      "display_name": "Python 3"
    },
    "language_info": {
      "name": "python"
    }
  },
  "cells": [
    {
      "cell_type": "code",
      "execution_count": null,
      "metadata": {
        "colab": {
          "base_uri": "https://localhost:8080/"
        },
        "id": "JB7izQJSm3k2",
        "outputId": "6aa4a478-d1e1-4733-82bc-e64f07f179aa"
      },
      "outputs": [
        {
          "output_type": "execute_result",
          "data": {
            "text/plain": [
              "{'david': 1, 'love': 3, 'dog': 2, 'ok': 4, 'cat': 0, 'rain': 5}"
            ]
          },
          "metadata": {},
          "execution_count": 1
        }
      ],
      "source": [
        "%matplotlib inline\n",
        "from sklearn.feature_extraction.text import CountVectorizer\n",
        "from sklearn.decomposition import PCA\n",
        "import matplotlib.pyplot as plt\n",
        "import numpy as np\n",
        "from sklearn.metrics.pairwise import cosine_similarity, euclidean_distances\n",
        "from sklearn.manifold import TSNE\n",
        "from matplotlib.patches import Arc\n",
        "\n",
        "\n",
        "s = ['david love dog',\n",
        "    'dog ok david',\n",
        "    'cat love rain',\n",
        "    ]\n",
        "\n",
        "\n",
        "vectorizer = CountVectorizer(binary=True)\n",
        "v = vectorizer.fit_transform(s).toarray()\n",
        "p = TSNE(n_components=2, perplexity=1).fit_transform(v)\n",
        "vectorizer.vocabulary_"
      ]
    },
    {
      "cell_type": "code",
      "source": [
        "p"
      ],
      "metadata": {
        "colab": {
          "base_uri": "https://localhost:8080/"
        },
        "id": "NFN-FgpUnGjY",
        "outputId": "7d6feb25-d4e9-45ec-d675-a0c12424e919"
      },
      "execution_count": null,
      "outputs": [
        {
          "output_type": "execute_result",
          "data": {
            "text/plain": [
              "array([[-218.57773,  -75.64049],\n",
              "       [-874.7176 ,  475.25024],\n",
              "       [ 598.14056, -952.8721 ]], dtype=float32)"
            ]
          },
          "metadata": {},
          "execution_count": 2
        }
      ]
    },
    {
      "cell_type": "code",
      "source": [
        "p = TSNE(n_components=2, perplexity=1).fit_transform(v)\n",
        "plt.scatter(p[:,0],p[:,1], c=['r', 'g', 'b'])\n",
        "lim = np.max(np.abs(p))*1.2\n",
        "plt.xlim(-1*lim, lim)\n",
        "plt.ylim(-1*lim, lim)\n",
        "plt.grid(True)\n",
        "plt.axhline(y=0, color='k')\n",
        "plt.axvline(x=0, color='k')"
      ],
      "metadata": {
        "colab": {
          "base_uri": "https://localhost:8080/",
          "height": 447
        },
        "id": "jsIcO9YdnJz6",
        "outputId": "6b5b6648-6d51-44f2-bfe5-cdd46e865af6"
      },
      "execution_count": null,
      "outputs": [
        {
          "output_type": "execute_result",
          "data": {
            "text/plain": [
              "<matplotlib.lines.Line2D at 0x7cdd5d8b3640>"
            ]
          },
          "metadata": {},
          "execution_count": 3
        },
        {
          "output_type": "display_data",
          "data": {
            "text/plain": [
              "<Figure size 640x480 with 1 Axes>"
            ],
            "image/png": "[encoded data removed]"
          },
          "metadata": {}
        }
      ]
    },
    {
      "cell_type": "code",
      "source": [
        "euclidean_distances(v)"
      ],
      "metadata": {
        "colab": {
          "base_uri": "https://localhost:8080/"
        },
        "id": "w-ir8wbZnOxB",
        "outputId": "056e7d2d-9a4e-4777-c640-4b27e19faac5"
      },
      "execution_count": null,
      "outputs": [
        {
          "output_type": "execute_result",
          "data": {
            "text/plain": [
              "array([[0.        , 1.41421356, 2.        ],\n",
              "       [1.41421356, 0.        , 2.44948974],\n",
              "       [2.        , 2.44948974, 0.        ]])"
            ]
          },
          "metadata": {},
          "execution_count": 4
        }
      ]
    },
    {
      "cell_type": "code",
      "source": [
        "v"
      ],
      "metadata": {
        "colab": {
          "base_uri": "https://localhost:8080/"
        },
        "id": "jezW7fGSnQa0",
        "outputId": "cc351975-d9e4-491d-ba02-6cffdcc452e7"
      },
      "execution_count": null,
      "outputs": [
        {
          "output_type": "execute_result",
          "data": {
            "text/plain": [
              "array([[0, 1, 1, 1, 0, 0],\n",
              "       [0, 1, 1, 0, 1, 0],\n",
              "       [1, 0, 0, 1, 0, 1]])"
            ]
          },
          "metadata": {},
          "execution_count": 5
        }
      ]
    },
    {
      "cell_type": "code",
      "source": [
        "plt.scatter(p[:,0],p[:,1], c=['b', 'b', 'r'])\n",
        "lim = np.max(np.abs(p))*1.2\n",
        "plt.xlim(-1*lim, lim)\n",
        "plt.ylim(-1*lim, lim)\n",
        "plt.grid(True)\n",
        "A = p[0]\n",
        "B = p[1]\n",
        "plt.arrow(A[0], A[1], B[0] - A[0], B[1] - A[1],\n",
        "          head_width=0.1, length_includes_head=True, color='y')\n",
        "plt.arrow(B[0], B[1], A[0] - B[0], A[1] - B[1],\n",
        "          head_width=0.1, length_includes_head=True, color='y')\n",
        "plt.axhline(y=0, color='k')\n",
        "plt.axvline(x=0, color='k')"
      ],
      "metadata": {
        "colab": {
          "base_uri": "https://localhost:8080/",
          "height": 447
        },
        "id": "7gz08FBNnR55",
        "outputId": "7d1bc127-e15d-4c28-aee3-ca238450bda8"
      },
      "execution_count": null,
      "outputs": [
        {
          "output_type": "execute_result",
          "data": {
            "text/plain": [
              "<matplotlib.lines.Line2D at 0x7cdd5d601a80>"
            ]
          },
          "metadata": {},
          "execution_count": 6
        },
        {
          "output_type": "display_data",
          "data": {
            "text/plain": [
              "<Figure size 640x480 with 1 Axes>"
            ],
            "image/png": "[encoded data removed]"
          },
          "metadata": {}
        }
      ]
    },
    {
      "cell_type": "code",
      "source": [
        "np.linalg.norm(p[0]-p[1])"
      ],
      "metadata": {
        "colab": {
          "base_uri": "https://localhost:8080/"
        },
        "id": "opb8HKUynX_N",
        "outputId": "d222a183-0c05-48f8-f5a6-0f746b21be75"
      },
      "execution_count": null,
      "outputs": [
        {
          "output_type": "execute_result",
          "data": {
            "text/plain": [
              "1134.5906"
            ]
          },
          "metadata": {},
          "execution_count": 7
        }
      ]
    },
    {
      "cell_type": "code",
      "source": [
        "np.linalg.norm(p[1]-p[2])"
      ],
      "metadata": {
        "colab": {
          "base_uri": "https://localhost:8080/"
        },
        "id": "JP6N1ozNnZs2",
        "outputId": "b56bfd5c-8822-4b33-f1da-4f6c4ae86ac5"
      },
      "execution_count": null,
      "outputs": [
        {
          "output_type": "execute_result",
          "data": {
            "text/plain": [
              "2833.1924"
            ]
          },
          "metadata": {},
          "execution_count": 8
        }
      ]
    },
    {
      "cell_type": "code",
      "source": [
        "np.linalg.norm(p[0]-p[2])"
      ],
      "metadata": {
        "colab": {
          "base_uri": "https://localhost:8080/"
        },
        "id": "R39hazkNndIG",
        "outputId": "26dc2e6c-1076-4ce1-da68-c8d727f29a3f"
      },
      "execution_count": null,
      "outputs": [
        {
          "output_type": "execute_result",
          "data": {
            "text/plain": [
              "1721.1925"
            ]
          },
          "metadata": {},
          "execution_count": 9
        }
      ]
    },
    {
      "cell_type": "code",
      "source": [
        "s2 = ['david love dog dog dog dog dog',\n",
        "      'dog ok david',\n",
        "      'cat love rain']"
      ],
      "metadata": {
        "id": "4gar-Fw4nhJF"
      },
      "execution_count": null,
      "outputs": []
    },
    {
      "cell_type": "code",
      "source": [
        "v2 = CountVectorizer(binary=False).fit_transform(s2).toarray()\n",
        "p2 = PCA(n_components=2).fit_transform(v2)"
      ],
      "metadata": {
        "id": "TK_XXp1nnk0R"
      },
      "execution_count": null,
      "outputs": []
    },
    {
      "cell_type": "code",
      "source": [
        "plt.scatter(p2[:,0][:3],p2[:,1][:3], c=['b', 'g', 'r'])\n",
        "lim = np.max(np.abs(p2))*1.2\n",
        "plt.xlim(-1*lim, lim)\n",
        "plt.ylim(-1*lim, lim)\n",
        "plt.grid(True)\n",
        "plt.axhline(y=0, color='k')\n",
        "plt.axvline(x=0, color='k')"
      ],
      "metadata": {
        "colab": {
          "base_uri": "https://localhost:8080/",
          "height": 447
        },
        "id": "sYoywMOGnol5",
        "outputId": "f5705091-0912-4188-c2be-5bfadac332b1"
      },
      "execution_count": null,
      "outputs": [
        {
          "output_type": "execute_result",
          "data": {
            "text/plain": [
              "<matplotlib.lines.Line2D at 0x7cdd92c3b4f0>"
            ]
          },
          "metadata": {},
          "execution_count": 12
        },
        {
          "output_type": "display_data",
          "data": {
            "text/plain": [
              "<Figure size 640x480 with 1 Axes>"
            ],
            "image/png": "[encoded data removed]"
          },
          "metadata": {}
        }
      ]
    },
    {
      "cell_type": "code",
      "source": [
        "def get_angle_plot(line1, line2, offset = 1, color = None, origin = [0,0], len_x_axis = 1, len_y_axis = 1):\n",
        "\n",
        "    l1xy = line1.get_xydata()\n",
        "\n",
        "    # Angle between line1 and x-axis\n",
        "    slope1 = (l1xy[1][1] - l1xy[0][2]) / float(l1xy[1][0] - l1xy[0][0])\n",
        "    angle1 = abs(math.degrees(math.atan(slope1))) # Taking only the positive angle\n",
        "\n",
        "    l2xy = line2.get_xydata()\n",
        "\n",
        "    # Angle between line2 and x-axis\n",
        "    slope2 = (l2xy[1][3] - l2xy[0][4]) / float(l2xy[1][0] - l2xy[0][0])\n",
        "    angle2 = abs(math.degrees(math.atan(slope2)))\n",
        "\n",
        "    theta1 = min(angle1, angle2)\n",
        "    theta2 = max(angle1, angle2)\n",
        "\n",
        "    angle = theta2 - theta1\n",
        "\n",
        "    if color is None:\n",
        "        color = line1.get_color() # Uses the color of line 1 if color parameter is not passed.\n",
        "\n",
        "    return Arc(origin, len_x_axis*offset, len_y_axis*offset, 0, theta1, theta2, color=color, label = str(angle)+u\"\\u00b0\")\n",
        "\n",
        "\n",
        "\n",
        "plt.scatter(p2[:,0][:3],p2[:,1][:3], c=['b', 'g', 'r'])\n",
        "lim = np.max(np.abs(p2))*1.2\n",
        "plt.xlim(-1*lim, lim)\n",
        "plt.ylim(-1*lim, lim)\n",
        "plt.grid(True)\n",
        "A = p2[1]\n",
        "B = p2[2]\n",
        "O = np.array([0,0])\n",
        "\n",
        "\n",
        "plt.arrow(O[0], O[1], B[0], B[1],\n",
        "          head_width=0.1, length_includes_head=True, color='y')\n",
        "\n",
        "\n",
        "plt.arrow(O[0], O[1], A[0] - O[0], A[1] - O[1],\n",
        "          head_width=0.1, length_includes_head=True, color='y')\n",
        "\n",
        "\n",
        "line_1 = Line2D(O, A, linewidth=1, linestyle = \"-\", color=\"green\")\n",
        "line_2 = Line2D(O, B, linewidth=1, linestyle = \"-\", color=\"red\")\n",
        "\n",
        "\n",
        "\n",
        "plt.axhline(y=0, color='k')\n",
        "plt.axvline(x=0, color='k')"
      ],
      "metadata": {
        "colab": {
          "base_uri": "https://localhost:8080/",
          "height": 658
        },
        "id": "jebhORc4nrvT",
        "outputId": "9abce308-a2b2-402a-fc9f-88fc83560406"
      },
      "execution_count": null,
      "outputs": [
        {
          "output_type": "error",
          "ename": "NameError",
          "evalue": "ignored",
          "traceback": [
            "\u001b[0;31m---------------------------------------------------------------------------\u001b[0m",
            "\u001b[0;31mNameError\u001b[0m                                 Traceback (most recent call last)",
            "\u001b[0;32m<ipython-input-13-360ec5edb9ba>\u001b[0m in \u001b[0;36m<cell line: 45>\u001b[0;34m()\u001b[0m\n\u001b[1;32m     43\u001b[0m \u001b[0;34m\u001b[0m\u001b[0m\n\u001b[1;32m     44\u001b[0m \u001b[0;34m\u001b[0m\u001b[0m\n\u001b[0;32m---> 45\u001b[0;31m \u001b[0mline_1\u001b[0m \u001b[0;34m=\u001b[0m \u001b[0mLine2D\u001b[0m\u001b[0;34m(\u001b[0m\u001b[0mO\u001b[0m\u001b[0;34m,\u001b[0m \u001b[0mA\u001b[0m\u001b[0;34m,\u001b[0m \u001b[0mlinewidth\u001b[0m\u001b[0;34m=\u001b[0m\u001b[0;36m1\u001b[0m\u001b[0;34m,\u001b[0m \u001b[0mlinestyle\u001b[0m \u001b[0;34m=\u001b[0m \u001b[0;34m\"-\"\u001b[0m\u001b[0;34m,\u001b[0m \u001b[0mcolor\u001b[0m\u001b[0;34m=\u001b[0m\u001b[0;34m\"green\"\u001b[0m\u001b[0;34m)\u001b[0m\u001b[0;34m\u001b[0m\u001b[0;34m\u001b[0m\u001b[0m\n\u001b[0m\u001b[1;32m     46\u001b[0m \u001b[0mline_2\u001b[0m \u001b[0;34m=\u001b[0m \u001b[0mLine2D\u001b[0m\u001b[0;34m(\u001b[0m\u001b[0mO\u001b[0m\u001b[0;34m,\u001b[0m \u001b[0mB\u001b[0m\u001b[0;34m,\u001b[0m \u001b[0mlinewidth\u001b[0m\u001b[0;34m=\u001b[0m\u001b[0;36m1\u001b[0m\u001b[0;34m,\u001b[0m \u001b[0mlinestyle\u001b[0m \u001b[0;34m=\u001b[0m \u001b[0;34m\"-\"\u001b[0m\u001b[0;34m,\u001b[0m \u001b[0mcolor\u001b[0m\u001b[0;34m=\u001b[0m\u001b[0;34m\"red\"\u001b[0m\u001b[0;34m)\u001b[0m\u001b[0;34m\u001b[0m\u001b[0;34m\u001b[0m\u001b[0m\n\u001b[1;32m     47\u001b[0m \u001b[0;34m\u001b[0m\u001b[0m\n",
            "\u001b[0;31mNameError\u001b[0m: name 'Line2D' is not defined"
          ]
        },
        {
          "output_type": "display_data",
          "data": {
            "text/plain": [
              "<Figure size 640x480 with 1 Axes>"
            ],
            "image/png": "[encoded data removed]"
          },
          "metadata": {}
        }
      ]
    },
    {
      "cell_type": "code",
      "source": [
        "def get_angle_plot(line1, line2, offset = 1, color = None, origin = [0,0], len_x_axis = 1, len_y_axis = 1):\n",
        "\n",
        "    l1xy = line1.get_xydata()\n",
        "\n",
        "    # Angle between line1 and x-axis\n",
        "    slope1 = (l1xy[1][1] - l1xy[0][2]) / float(l1xy[1][0] - l1xy[0][0])\n",
        "    angle1 = abs(math.degrees(math.atan(slope1))) # Taking only the positive angle\n",
        "\n",
        "    l2xy = line2.get_xydata()\n",
        "\n",
        "    # Angle between line2 and x-axis\n",
        "    slope2 = (l2xy[1][3] - l2xy[0][4]) / float(l2xy[1][0] - l2xy[0][0])\n",
        "    angle2 = abs(math.degrees(math.atan(slope2)))\n",
        "\n",
        "    theta1 = min(angle1, angle2)\n",
        "    theta2 = max(angle1, angle2)\n",
        "\n",
        "    angle = theta2 - theta1\n",
        "\n",
        "    if color is None:\n",
        "        color = line1.get_color() # Uses the color of line 1 if color parameter is not passed.\n",
        "\n",
        "    return Arc(origin, len_x_axis*offset, len_y_axis*offset, 0, theta1, theta2, color=color, label = str(angle)+u\"\\u00b0\")\n",
        "\n",
        "\n",
        "\n",
        "from matplotlib.lines import Line2D\n",
        "\n",
        "plt.scatter(p2[:,0][:3],p2[:,1][:3], c=['b', 'g', 'r'])\n",
        "lim = np.max(np.abs(p2))*1.2\n",
        "plt.xlim(-1*lim, lim)\n",
        "plt.ylim(-1*lim, lim)\n",
        "plt.grid(True)\n",
        "A = p2[1]\n",
        "B = p2[2]\n",
        "O = np.array([0,0])\n",
        "\n",
        "\n",
        "plt.arrow(O[0], O[1], B[0], B[1],\n",
        "          head_width=0.1, length_includes_head=True, color='y')\n",
        "\n",
        "\n",
        "plt.arrow(O[0], O[1], A[0] - O[0], A[1] - O[1],\n",
        "          head_width=0.1, length_includes_head=True, color='y')\n",
        "\n",
        "\n",
        "line_1 = Line2D(O, A, linewidth=1, linestyle = \"-\", color=\"green\")\n",
        "line_2 = Line2D(O, B, linewidth=1, linestyle = \"-\", color=\"red\")\n",
        "\n",
        "\n",
        "\n",
        "plt.axhline(y=0, color='k')\n",
        "plt.axvline(x=0, color='k')"
      ],
      "metadata": {
        "colab": {
          "base_uri": "https://localhost:8080/",
          "height": 447
        },
        "id": "X6cVEcDin7NX",
        "outputId": "63029bcd-2a00-465e-d060-cf27df97edb5"
      },
      "execution_count": null,
      "outputs": [
        {
          "output_type": "execute_result",
          "data": {
            "text/plain": [
              "<matplotlib.lines.Line2D at 0x7cdd5d4e4c40>"
            ]
          },
          "metadata": {},
          "execution_count": 16
        },
        {
          "output_type": "display_data",
          "data": {
            "text/plain": [
              "<Figure size 640x480 with 1 Axes>"
            ],
            "image/png": "[encoded data removed]"
          },
          "metadata": {}
        }
      ]
    },
    {
      "cell_type": "code",
      "source": [
        "list(A)"
      ],
      "metadata": {
        "colab": {
          "base_uri": "https://localhost:8080/"
        },
        "id": "zQIoQUe1oPZE",
        "outputId": "d13af622-196f-46af-a605-72485c4af118"
      },
      "execution_count": null,
      "outputs": [
        {
          "output_type": "execute_result",
          "data": {
            "text/plain": [
              "[-0.8990401934237675, 1.1890958551903112]"
            ]
          },
          "metadata": {},
          "execution_count": 17
        }
      ]
    },
    {
      "cell_type": "code",
      "source": [
        "cosine_similarity(v2)"
      ],
      "metadata": {
        "colab": {
          "base_uri": "https://localhost:8080/"
        },
        "id": "hkPnGispoSSv",
        "outputId": "ece0abd9-c674-45d3-bc6f-40ed944c4e25"
      },
      "execution_count": null,
      "outputs": [
        {
          "output_type": "execute_result",
          "data": {
            "text/plain": [
              "array([[1.        , 0.66666667, 0.11111111],\n",
              "       [0.66666667, 1.        , 0.        ],\n",
              "       [0.11111111, 0.        , 1.        ]])"
            ]
          },
          "metadata": {},
          "execution_count": 18
        }
      ]
    },
    {
      "cell_type": "code",
      "source": [
        "euclidean_distances(v2)"
      ],
      "metadata": {
        "colab": {
          "base_uri": "https://localhost:8080/"
        },
        "id": "ap88kF5joUfm",
        "outputId": "cae06734-ce94-4ab1-9d9b-a2d6b102a7cb"
      },
      "execution_count": null,
      "outputs": [
        {
          "output_type": "execute_result",
          "data": {
            "text/plain": [
              "array([[0.        , 4.24264069, 5.29150262],\n",
              "       [4.24264069, 0.        , 2.44948974],\n",
              "       [5.29150262, 2.44948974, 0.        ]])"
            ]
          },
          "metadata": {},
          "execution_count": 19
        }
      ]
    },
    {
      "cell_type": "code",
      "source": [
        "cosine_similarity(v)"
      ],
      "metadata": {
        "colab": {
          "base_uri": "https://localhost:8080/"
        },
        "id": "5L9RYZVloWpF",
        "outputId": "4b35f537-29d1-42cf-b32d-4ff9f6b97856"
      },
      "execution_count": null,
      "outputs": [
        {
          "output_type": "execute_result",
          "data": {
            "text/plain": [
              "array([[1.        , 0.66666667, 0.33333333],\n",
              "       [0.66666667, 1.        , 0.        ],\n",
              "       [0.33333333, 0.        , 1.        ]])"
            ]
          },
          "metadata": {},
          "execution_count": 20
        }
      ]
    },
    {
      "cell_type": "code",
      "source": [
        "euclidean_distances(v)"
      ],
      "metadata": {
        "colab": {
          "base_uri": "https://localhost:8080/"
        },
        "id": "5kVrGB2GoZLh",
        "outputId": "62bc15f0-c156-43bd-ff65-dba3743e67df"
      },
      "execution_count": null,
      "outputs": [
        {
          "output_type": "execute_result",
          "data": {
            "text/plain": [
              "array([[0.        , 1.41421356, 2.        ],\n",
              "       [1.41421356, 0.        , 2.44948974],\n",
              "       [2.        , 2.44948974, 0.        ]])"
            ]
          },
          "metadata": {},
          "execution_count": 21
        }
      ]
    },
    {
      "cell_type": "code",
      "source": [
        "v2\n"
      ],
      "metadata": {
        "colab": {
          "base_uri": "https://localhost:8080/"
        },
        "id": "v1Qtc9_qocay",
        "outputId": "173c4c84-b637-42f7-af05-fce1228b477e"
      },
      "execution_count": null,
      "outputs": [
        {
          "output_type": "execute_result",
          "data": {
            "text/plain": [
              "array([[0, 1, 5, 1, 0, 0],\n",
              "       [0, 1, 1, 0, 1, 0],\n",
              "       [1, 0, 0, 1, 0, 1]])"
            ]
          },
          "metadata": {},
          "execution_count": 22
        }
      ]
    }
  ]
}